{
 "cells": [
  {
   "cell_type": "code",
   "execution_count": 1,
   "id": "cecb1020-8dc5-4c83-8ba4-115e5be47097",
   "metadata": {
    "tags": []
   },
   "outputs": [],
   "source": [
    "import requests\n",
    "import pandas as pd\n",
    "import numpy as np"
   ]
  },
  {
   "cell_type": "code",
   "execution_count": 2,
   "id": "a07decad-06db-4360-9fc4-4d53acb70005",
   "metadata": {
    "tags": []
   },
   "outputs": [],
   "source": [
    "def Query_Uniprot(Uniprot_ID_query):\n",
    "\n",
    "    query_uniprot = 'https://rest.uniprot.org/uniprotkb/search?query=' + Uniprot_ID_query\n",
    "    # print(query_uniprot)\n",
    "    \n",
    "    response_uniprot = requests.get(query_uniprot)\n",
    "    df_uniprot = pd.DataFrame.from_dict(response_uniprot.json()['results'])\n",
    "\n",
    "    ## Remove entries without sequence\n",
    "    df_uniprot_filtered = df_uniprot[~df_uniprot['sequence'].isna()]\n",
    "    ## Remove unreviewed entries\n",
    "    # df_uniprot_filtered = df_uniprot_filtered[df_uniprot_filtered['entryType'] == 'UniProtKB reviewed (Swiss-Prot)']\n",
    "    \n",
    "    return df_uniprot_filtered"
   ]
  },
  {
   "cell_type": "code",
   "execution_count": 3,
   "id": "bfe9121a-1439-4bb8-b501-76b4e79334a9",
   "metadata": {
    "tags": []
   },
   "outputs": [],
   "source": [
    "found_list = []\n",
    "not_found_list = []\n",
    "result_dict = {}"
   ]
  },
  {
   "cell_type": "code",
   "execution_count": 4,
   "id": "5dc6a42c-8aa3-4324-a6fa-d1a366bcc1fc",
   "metadata": {
    "tags": []
   },
   "outputs": [
    {
     "name": "stdout",
     "output_type": "stream",
     "text": [
      "Protein sequences found for bactNOG00014 !!!!\n",
      "Protein sequences found for bactNOG00441 !!!!\n",
      "Protein sequences found for bactNOG00852 !!!!\n",
      "Protein sequences found for bactNOG00947 !!!!\n",
      "Protein sequences found for bactNOG01259 !!!!\n",
      "Protein sequences found for bactNOG01662 !!!!\n",
      "Protein sequences found for bactNOG01793 !!!!\n",
      "Protein sequences found for bactNOG01844 !!!!\n",
      "Protein sequences found for bactNOG02159 !!!!\n",
      "Protein sequences found for bactNOG02194 !!!!\n",
      "Protein sequences found for bactNOG02239 !!!!\n",
      "Protein sequences found for bactNOG02592 !!!!\n",
      "Protein sequences found for bactNOG02881 !!!!\n",
      "Protein sequences found for bactNOG02937 !!!!\n",
      "Protein sequences found for bactNOG03269 !!!!\n",
      "Protein sequences found for bactNOG03766 !!!!\n",
      "Protein sequences found for bactNOG04578 !!!!\n",
      "Protein sequences found for bactNOG05056 !!!!\n",
      "Protein sequences found for bactNOG05829 !!!!\n",
      "Protein sequences found for bactNOG06811 !!!!\n",
      "Protein sequences found for bactNOG07153 !!!!\n",
      "Protein sequences found for bactNOG07881 !!!!\n",
      "Protein sequences found for bactNOG08340 !!!!\n",
      "Protein sequences found for bactNOG10247 !!!!\n",
      "Protein sequences found for bactNOG10565 !!!!\n",
      "Protein sequences found for bactNOG12453 !!!!\n",
      "Protein sequences found for bactNOG12836 !!!!\n",
      "Protein sequences found for bactNOG14098 !!!!\n",
      "Protein sequences found for bactNOG15341 !!!!\n",
      "Protein sequences found for bactNOG16627 !!!!\n",
      "Protein sequences found for bactNOG18192 !!!!\n",
      "Protein sequences found for bactNOG18519 !!!!\n",
      "Protein sequences found for bactNOG18630 !!!!\n",
      "Protein sequences found for bactNOG20249 !!!!\n",
      "Protein sequences found for bactNOG24711 !!!!\n",
      "Protein sequences found for bactNOG26316 !!!!\n",
      "Protein sequences found for bactNOG27043 !!!!\n",
      "Protein sequences found for bactNOG28876 !!!!\n",
      "Protein sequences found for bactNOG30464 !!!!\n",
      "Protein sequences found for bactNOG31116 !!!!\n",
      "Protein sequences found for bactNOG36984 !!!!\n",
      "Protein sequences found for bactNOG48307 !!!!\n",
      "Protein sequences found for bactNOG51678 !!!!\n",
      "Protein sequences found for bactNOG62245 !!!!\n",
      "Protein sequences found for bactNOG69335 !!!!\n",
      "Protein sequences found for bactNOG82617 !!!!\n",
      "Protein sequences found for firmNOG00626 !!!!\n",
      "Protein sequences found for firmNOG04290 !!!!\n",
      "Protein sequences found for NOG132553 !!!!\n",
      "Protein sequences found for NOG133663 !!!!\n",
      "Protein sequences found for proNOG30191 !!!!\n"
     ]
    }
   ],
   "source": [
    "for ID in [\"bactNOG00014\",\"bactNOG00441\",\"bactNOG00852\",\"bactNOG00947\",\"bactNOG01259\",\"bactNOG01662\",\"bactNOG01793\",\"bactNOG01844\",\"bactNOG02159\",\"bactNOG02194\",\"bactNOG02239\",\"bactNOG02592\",\"bactNOG02881\",\"bactNOG02937\",\"bactNOG03269\",\"bactNOG03766\",\"bactNOG04578\",\"bactNOG05056\",\"bactNOG05829\",\"bactNOG06811\",\"bactNOG07153\",\"bactNOG07881\",\"bactNOG08340\",\"bactNOG10247\",\"bactNOG10565\",\"bactNOG12453\",\"bactNOG12836\",\"bactNOG14098\",\"bactNOG15341\",\"bactNOG16627\",\"bactNOG18192\",\"bactNOG18519\",\"bactNOG18630\",\"bactNOG20249\",\"bactNOG24711\",\"bactNOG26316\",\"bactNOG27043\",\"bactNOG28876\",\"bactNOG30464\",\"bactNOG31116\",\"bactNOG36984\",\"bactNOG48307\",\"bactNOG51678\",\"bactNOG62245\",\"bactNOG69335\",\"bactNOG82617\",\"firmNOG00626\",\"firmNOG04290\",\"NOG132553\",\"NOG133663\",\"proNOG30191\"]:\n",
    "    \n",
    "    query_string = \"http://eggnog.embl.de/version_3.0/cgi/members.py?search_term=\" + ID + \"&group=\" + ID\n",
    "    # print(query_string)\n",
    "    response = requests.get(query_string)\n",
    "    df = pd.read_html(response.text)[0]\n",
    "    \n",
    "    \n",
    "    ## Remove those protein without Uniprot ID\n",
    "    filtered_df = df[~df['Uniprot'].isna()]    \n",
    "    \n",
    "    ## Print warning if no entries can be found for given EGGNOG ID    \n",
    "    if filtered_df.shape[0] == 0:\n",
    "        print('Nothing found for ' +  ID + ' in EggnogV3.0!!!')\n",
    "        next\n",
    "    else:\n",
    "        ## Parse protein sequence on Uniprot\n",
    "        Uniprot_ID = filtered_df['Uniprot']\n",
    "        Uniprot_ID = list(set(Uniprot_ID))\n",
    "        Uniprot_ID = ['id:' + x for x in Uniprot_ID]\n",
    "        \n",
    "        if (len(Uniprot_ID) > 1) & (len(Uniprot_ID) < 500):\n",
    "            Uniprot_ID_query='%20OR%20'.join(Uniprot_ID)\n",
    "            uniprot_df = Query_Uniprot(Uniprot_ID_query)\n",
    "        \n",
    "        elif len(Uniprot_ID) >= 500:\n",
    "            # print(len(Uniprot_ID))\n",
    "            df_list_tmp = []\n",
    "            for chunk_index in [*range(0,len(Uniprot_ID),500)]:\n",
    "                try:\n",
    "                    chunked_Uniprot_ID = Uniprot_ID[chunk_index:chunk_index+500]\n",
    "                    \n",
    "                except IndexError:\n",
    "                    chunked_Uniprot_ID = Uniprot_ID[chunk_index:len(Uniprot_ID)]\n",
    "                \n",
    "                ## Query\n",
    "                Uniprot_ID_query='%20OR%20'.join(chunked_Uniprot_ID)\n",
    "                uniprot_df_tmp = Query_Uniprot(Uniprot_ID_query)\n",
    "                df_list_tmp.append(uniprot_df_tmp)\n",
    "            \n",
    "            uniprot_df = pd.concat(df_list_tmp)\n",
    "\n",
    "        else:\n",
    "            Uniprot_ID_query = Uniprot_ID[0]\n",
    "            uniprot_df = Query_Uniprot(Uniprot_ID_query)\n",
    "        \n",
    "        \n",
    "        uniprot_df.reset_index(inplace=True, drop=True)\n",
    "        ## Filter non-Bacteria enteries\n",
    "        keep_flag = []\n",
    "        for x in uniprot_df.index.to_list():\n",
    "            keep_flag.append('Bacteria' in uniprot_df.loc[x, 'organism']['lineage'])\n",
    "        uniprot_df = uniprot_df[keep_flag]\n",
    "        \n",
    "        if uniprot_df.shape[0] == 0:\n",
    "            print(\"No protein found for \" + ID + ' in Uniprot!!!')\n",
    "            not_found_list.append(ID)\n",
    "        else:\n",
    "            print(\"Protein sequences found for \" + ID + \" !!!!\")\n",
    "            found_list.append(ID)\n",
    "\n",
    "        \n",
    "        try:\n",
    "            result_dict[ID] = ['UniRef90_' + x for x in uniprot_df['primaryAccession'].to_list()]\n",
    "        except KeyError:\n",
    "            result_dict[ID] = np.nan\n",
    "        \n",
    "        # print(uniprot_df)\n",
    "        # print(list(uniprot_df.columns.values))      "
   ]
  },
  {
   "cell_type": "code",
   "execution_count": 5,
   "id": "da373638-f8cf-48b9-9182-8e202af8d43d",
   "metadata": {
    "tags": []
   },
   "outputs": [
    {
     "name": "stdout",
     "output_type": "stream",
     "text": [
      "51entries could be found with reviewd protein sequences on uniprot\n",
      "0entries could not be found with reviewd protein sequences on uniprot\n"
     ]
    }
   ],
   "source": [
    "print(str(len(found_list)) + 'entries could be found with reviewd protein sequences on uniprot')\n",
    "print(str(len(not_found_list)) + 'entries could not be found with reviewd protein sequences on uniprot')"
   ]
  },
  {
   "cell_type": "code",
   "execution_count": 6,
   "id": "bb4caf20-7b42-4076-90ec-2170728a82c6",
   "metadata": {
    "tags": []
   },
   "outputs": [],
   "source": [
    "pseudo_regroup = pd.DataFrame.from_dict(result_dict, orient='index')"
   ]
  },
  {
   "cell_type": "code",
   "execution_count": 7,
   "id": "e062d41b-9a62-4b46-8dbf-93dd310617ad",
   "metadata": {
    "tags": []
   },
   "outputs": [],
   "source": [
    "pseudo_regroup.to_csv('./Pseudo_GBM_EGGNOG_to_UniRef90.csv', sep = '\\t', header=False)"
   ]
  }
 ],
 "metadata": {
  "kernelspec": {
   "display_name": "Python 3 (ipykernel)",
   "language": "python",
   "name": "python3"
  },
  "language_info": {
   "codemirror_mode": {
    "name": "ipython",
    "version": 3
   },
   "file_extension": ".py",
   "mimetype": "text/x-python",
   "name": "python",
   "nbconvert_exporter": "python",
   "pygments_lexer": "ipython3",
   "version": "3.9.16"
  }
 },
 "nbformat": 4,
 "nbformat_minor": 5
}
