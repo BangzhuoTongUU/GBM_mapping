{
 "cells": [
  {
   "cell_type": "code",
   "execution_count": 2,
   "id": "e3a93c6f-e629-4910-bb64-8e20d3458bc1",
   "metadata": {
    "tags": []
   },
   "outputs": [],
   "source": [
    "import requests\n",
    "import pandas as pd"
   ]
  },
  {
   "cell_type": "code",
   "execution_count": 3,
   "id": "5fbf38b3-af06-4c04-807a-3252df24e47e",
   "metadata": {
    "tags": []
   },
   "outputs": [],
   "source": [
    "def Query_Uniprot(Uniprot_ID_query):\n",
    "\n",
    "    query_uniprot = 'https://rest.uniprot.org/uniprotkb/search?query=' + Uniprot_ID_query\n",
    "    # print(query_uniprot)\n",
    "    \n",
    "    response_uniprot = requests.get(query_uniprot)\n",
    "    df_uniprot = pd.DataFrame.from_dict(response_uniprot.json()['results'])\n",
    "\n",
    "    ## Remove entries without sequence\n",
    "    df_uniprot_filtered = df_uniprot[~df_uniprot['sequence'].isna()]\n",
    "    ## Remove unreviewed entries\n",
    "    # df_uniprot_filtered = df_uniprot_filtered[df_uniprot_filtered['entryType'] == 'UniProtKB reviewed (Swiss-Prot)']\n",
    "    \n",
    "    return df_uniprot_filtered\n"
   ]
  },
  {
   "cell_type": "code",
   "execution_count": 4,
   "id": "6c7ca7a2-6ee7-458a-99b7-650e43f30d24",
   "metadata": {
    "tags": []
   },
   "outputs": [],
   "source": [
    "found_list = []\n",
    "not_found_list = []\n",
    "result_dict = {}"
   ]
  },
  {
   "cell_type": "code",
   "execution_count": 5,
   "id": "f5055e0c-47c6-4810-9761-7e72395047a3",
   "metadata": {
    "tags": []
   },
   "outputs": [
    {
     "name": "stdout",
     "output_type": "stream",
     "text": [
      "Protein sequences found for K00492 !!!!\n"
     ]
    }
   ],
   "source": [
    "for KO in ['K00492']:\n",
    "    query_string = \"https://www.genome.jp/kegg-bin/uniprot_list?ko=\" + KO\n",
    "    response = requests.get(query_string)\n",
    "    df = pd.read_html(response.text)[1]\n",
    "    \n",
    "    Uniprot_ID = df[1]\n",
    "    Uniprot_ID = list(set(Uniprot_ID))\n",
    "    Uniprot_ID = ['id:' + x for x in Uniprot_ID]\n",
    "\n",
    "    if (len(Uniprot_ID) > 1) & (len(Uniprot_ID) < 500):\n",
    "        Uniprot_ID_query='%20OR%20'.join(Uniprot_ID)\n",
    "        uniprot_df = Query_Uniprot(Uniprot_ID_query)\n",
    "\n",
    "    elif len(Uniprot_ID) >= 500:\n",
    "        # print(len(Uniprot_ID))\n",
    "        df_list_tmp = []\n",
    "        for chunk_index in [*range(0,len(Uniprot_ID),500)]:\n",
    "            try:\n",
    "                chunked_Uniprot_ID = Uniprot_ID[chunk_index:chunk_index+500]\n",
    "\n",
    "            except IndexError:\n",
    "                chunked_Uniprot_ID = Uniprot_ID[chunk_index:len(Uniprot_ID)]\n",
    "\n",
    "            ## Query\n",
    "            Uniprot_ID_query='%20OR%20'.join(chunked_Uniprot_ID)\n",
    "            uniprot_df_tmp = Query_Uniprot(Uniprot_ID_query)\n",
    "            df_list_tmp.append(uniprot_df_tmp)\n",
    "\n",
    "        uniprot_df = pd.concat(df_list_tmp)\n",
    "\n",
    "    else:\n",
    "        Uniprot_ID_query = Uniprot_ID[0]\n",
    "        uniprot_df = Query_Uniprot(Uniprot_ID_query)\n",
    "        \n",
    "    uniprot_df.reset_index(inplace=True, drop=True)\n",
    "    ## Filter non-Bacteria enteries\n",
    "    keep_flag = []\n",
    "    for x in uniprot_df.index.to_list():\n",
    "        keep_flag.append('Bacteria' in uniprot_df.loc[x, 'organism']['lineage'])\n",
    "    uniprot_df = uniprot_df[keep_flag]\n",
    "\n",
    "    if uniprot_df.shape[0] == 0:\n",
    "        print(\"No protein found for \" + KO + ' in Uniprot!!!')\n",
    "        not_found_list.append(KO)\n",
    "    else:\n",
    "        print(\"Protein sequences found for \" + KO + \" !!!!\")\n",
    "        found_list.append(KO)\n",
    "\n",
    "    try:\n",
    "        result_dict[KO] = ['UniRef90_' + x for x in uniprot_df['primaryAccession'].to_list()]\n",
    "    except KeyError:\n",
    "        result_dict[KO] = np.nan\n",
    "\n",
    "    # print(uniprot_df)\n",
    "    # print(list(uniprot_df.columns.values))   "
   ]
  },
  {
   "cell_type": "code",
   "execution_count": 6,
   "id": "53ae5263-ca1b-440c-841c-09a76201464d",
   "metadata": {
    "tags": []
   },
   "outputs": [
    {
     "name": "stdout",
     "output_type": "stream",
     "text": [
      "1entries could be found with reviewd protein sequences on uniprot\n",
      "0entries could not be found with reviewd protein sequences on uniprot\n"
     ]
    }
   ],
   "source": [
    "print(str(len(found_list)) + 'entries could be found with reviewd protein sequences on uniprot')\n",
    "print(str(len(not_found_list)) + 'entries could not be found with reviewd protein sequences on uniprot')"
   ]
  },
  {
   "cell_type": "code",
   "execution_count": 7,
   "id": "353b9122-1ceb-4b71-8507-1bccdadad635",
   "metadata": {
    "tags": []
   },
   "outputs": [],
   "source": [
    "pseudo_regroup = pd.DataFrame.from_dict(result_dict, orient='index')"
   ]
  },
  {
   "cell_type": "code",
   "execution_count": 8,
   "id": "4a6085f4-f62e-440f-afe0-a15615aae527",
   "metadata": {
    "tags": []
   },
   "outputs": [
    {
     "data": {
      "text/html": [
       "<div>\n",
       "<style scoped>\n",
       "    .dataframe tbody tr th:only-of-type {\n",
       "        vertical-align: middle;\n",
       "    }\n",
       "\n",
       "    .dataframe tbody tr th {\n",
       "        vertical-align: top;\n",
       "    }\n",
       "\n",
       "    .dataframe thead th {\n",
       "        text-align: right;\n",
       "    }\n",
       "</style>\n",
       "<table border=\"1\" class=\"dataframe\">\n",
       "  <thead>\n",
       "    <tr style=\"text-align: right;\">\n",
       "      <th></th>\n",
       "      <th>0</th>\n",
       "    </tr>\n",
       "  </thead>\n",
       "  <tbody>\n",
       "    <tr>\n",
       "      <th>K00492</th>\n",
       "      <td>UniRef90_I7ASS7</td>\n",
       "    </tr>\n",
       "  </tbody>\n",
       "</table>\n",
       "</div>"
      ],
      "text/plain": [
       "                      0\n",
       "K00492  UniRef90_I7ASS7"
      ]
     },
     "execution_count": 8,
     "metadata": {},
     "output_type": "execute_result"
    }
   ],
   "source": [
    "pseudo_regroup"
   ]
  },
  {
   "cell_type": "code",
   "execution_count": 10,
   "id": "78dc1d11-42d4-4a5b-b928-2fe5bb53a7a1",
   "metadata": {
    "tags": []
   },
   "outputs": [],
   "source": [
    "pseudo_regroup.to_csv('./Pseudo_GBM_KO_to_UniRef90.csv', sep = '\\t', header=False)"
   ]
  }
 ],
 "metadata": {
  "kernelspec": {
   "display_name": "Python [conda env:.conda-BASIC_prediction]",
   "language": "python",
   "name": "conda-env-.conda-BASIC_prediction-py"
  },
  "language_info": {
   "codemirror_mode": {
    "name": "ipython",
    "version": 3
   },
   "file_extension": ".py",
   "mimetype": "text/x-python",
   "name": "python",
   "nbconvert_exporter": "python",
   "pygments_lexer": "ipython3",
   "version": "3.10.8"
  }
 },
 "nbformat": 4,
 "nbformat_minor": 5
}
