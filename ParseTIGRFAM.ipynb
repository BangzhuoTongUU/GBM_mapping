{
 "cells": [
  {
   "cell_type": "code",
   "execution_count": 13,
   "id": "821a84d0-4d5d-4bce-b629-b6c737031e38",
   "metadata": {
    "tags": []
   },
   "outputs": [],
   "source": [
    "import requests\n",
    "import pandas as pd\n",
    "import html5lib"
   ]
  },
  {
   "cell_type": "code",
   "execution_count": 14,
   "id": "368272ea-7e6c-47c2-a311-ff9a8bcce968",
   "metadata": {
    "tags": []
   },
   "outputs": [],
   "source": [
    "def Query_Uniprot(Uniprot_ID_query):\n",
    "\n",
    "    query_uniprot = 'https://rest.uniprot.org/uniprotkb/search?query=' + Uniprot_ID_query\n",
    "    # print(query_uniprot)\n",
    "    \n",
    "    response_uniprot = requests.get(query_uniprot)\n",
    "    df_uniprot = pd.DataFrame.from_dict(response_uniprot.json()['results'])\n",
    "\n",
    "    ## Remove entries without sequence\n",
    "    df_uniprot_filtered = df_uniprot[~df_uniprot['sequence'].isna()]\n",
    "    ## Remove unreviewed entries\n",
    "    df_uniprot_filtered = df_uniprot_filtered[df_uniprot_filtered['entryType'] == 'UniProtKB reviewed (Swiss-Prot)']\n",
    "    \n",
    "    return df_uniprot_filtered"
   ]
  },
  {
   "cell_type": "code",
   "execution_count": 15,
   "id": "7f2a48a4-32c6-4a31-8bda-8db00d3feba6",
   "metadata": {
    "tags": []
   },
   "outputs": [],
   "source": [
    "found_list = []\n",
    "not_found_list = []\n",
    "result_dict = {}"
   ]
  },
  {
   "cell_type": "code",
   "execution_count": 16,
   "id": "c78d60dd-ca61-4386-884e-f2f954f54f2d",
   "metadata": {
    "tags": []
   },
   "outputs": [
    {
     "name": "stdout",
     "output_type": "stream",
     "text": [
      "Protein sequences found for TIGR00078 !!!!\n",
      "Protein sequences found for TIGR00541 !!!!\n",
      "Protein sequences found for TIGR00550 !!!!\n",
      "Protein sequences found for TIGR00551 !!!!\n",
      "Protein sequences found for TIGR00552 !!!!\n",
      "Protein sequences found for TIGR01034 !!!!\n",
      "Protein sequences found for TIGR01122 !!!!\n",
      "Protein sequences found for TIGR01123 !!!!\n",
      "No protein found for TIGR01269 in Uniprot!!!\n",
      "Protein sequences found for TIGR01350 !!!!\n",
      "Protein sequences found for TIGR02422 !!!!\n",
      "Protein sequences found for TIGR02423 !!!!\n",
      "Protein sequences found for TIGR02617 !!!!\n",
      "Protein sequences found for TIGR03346 !!!!\n",
      "Protein sequences found for TIGR03811 !!!!\n",
      "No protein found for TIGR03812 in Uniprot!!!\n",
      "Protein sequences found for TIGR04380 !!!!\n"
     ]
    }
   ],
   "source": [
    "for ID in [\"TIGR00078\",\"TIGR00541\",\"TIGR00550\",\"TIGR00551\",\"TIGR00552\",\"TIGR01034\",\"TIGR01122\",\"TIGR01123\",\"TIGR01269\",\"TIGR01350\",\"TIGR02422\",\"TIGR02423\",\"TIGR02617\",\"TIGR03346\",\"TIGR03811\",\"TIGR03812\",\"TIGR04380\"]:\n",
    "    \n",
    "    uniprot_df = Query_Uniprot(ID)\n",
    "    uniprot_df.reset_index(inplace=True, drop=True)\n",
    "    \n",
    "    ## Filter non-Bacteria enteries\n",
    "    keep_flag = []\n",
    "    for x in uniprot_df.index.to_list():\n",
    "        keep_flag.append('Bacteria' in uniprot_df.loc[x, 'organism']['lineage'])\n",
    "    uniprot_df = uniprot_df[keep_flag]\n",
    "    \n",
    "    ## Check query result\n",
    "    if uniprot_df.shape[0] == 0:\n",
    "        print(\"No protein found for \" + ID + ' in Uniprot!!!')\n",
    "        not_found_list.append(ID)\n",
    "    else:\n",
    "        print(\"Protein sequences found for \" + ID + \" !!!!\")\n",
    "        found_list.append(ID)\n",
    "    \n",
    "    ## Save Uniprot Accessions for each TIGRFAM entry\n",
    "    try:\n",
    "        result_dict[ID] = ['UniRef90_' + x for x in uniprot_df['primaryAccession'].to_list()]\n",
    "    except KeyError:\n",
    "        result_dict[ID] = np.nan\n",
    "        \n",
    "    # print(uniprot_df)\n",
    "    # print(list(uniprot_df.columns.values))   "
   ]
  },
  {
   "cell_type": "code",
   "execution_count": 17,
   "id": "1deea28e-b84b-4e32-8bd4-0d4d4e63c632",
   "metadata": {},
   "outputs": [
    {
     "name": "stdout",
     "output_type": "stream",
     "text": [
      "15entries could be found with reviewd protein sequences on uniprot\n",
      "2entries could not be found with reviewd protein sequences on uniprot\n"
     ]
    }
   ],
   "source": [
    "print(str(len(found_list)) + 'entries could be found with reviewd protein sequences on uniprot')\n",
    "print(str(len(not_found_list)) + 'entries could not be found with reviewd protein sequences on uniprot')"
   ]
  },
  {
   "cell_type": "code",
   "execution_count": 18,
   "id": "f88a11ef-d6b3-4d6c-a411-338581b298c3",
   "metadata": {
    "tags": []
   },
   "outputs": [],
   "source": [
    "pseudo_regroup = pd.DataFrame.from_dict(result_dict, orient='index')\n",
    "pseudo_regroup.to_csv('./Pseudo_GBM_TIGRFAM_to_UniRef90.csv', sep = '\\t', header=False)"
   ]
  }
 ],
 "metadata": {
  "kernelspec": {
   "display_name": "Python [conda env:.conda-R.4.2.2]",
   "language": "python",
   "name": "conda-env-.conda-R.4.2.2-py"
  },
  "language_info": {
   "codemirror_mode": {
    "name": "ipython",
    "version": 3
   },
   "file_extension": ".py",
   "mimetype": "text/x-python",
   "name": "python",
   "nbconvert_exporter": "python",
   "pygments_lexer": "ipython3",
   "version": "3.9.16"
  }
 },
 "nbformat": 4,
 "nbformat_minor": 5
}
